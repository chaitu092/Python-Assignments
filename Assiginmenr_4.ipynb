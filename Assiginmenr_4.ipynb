{
 "cells": [
  {
   "cell_type": "markdown",
   "metadata": {},
   "source": [
    "## 1.1 Write a python program (with class concepts) to find the area of traiangle using below formula *area = (s*(s-a)*(s-b)*(s-c))**0.5\n",
    "## function to take the length of the sides of triangle from user should be defined in the parent class and function to calculate the area should be defined in subclass."
   ]
  },
  {
   "cell_type": "code",
   "execution_count": 1,
   "metadata": {},
   "outputs": [
    {
     "name": "stdout",
     "output_type": "stream",
     "text": [
      "Area of Triangle is 6.00\n"
     ]
    }
   ],
   "source": [
    "class shape:\n",
    "    def __init__(self,l1,l2,l3):\n",
    "        self.l1=l1\n",
    "        self.l2=l2\n",
    "        self.l3=l3\n",
    "        self.sides=[]\n",
    "    def setsides(self):\n",
    "        self.sides = [self.l1,self.l2,self.l3]\n",
    "        return self.sides\n",
    "        \n",
    "class Triangle(shape):\n",
    "    def __init__(self,l1,l2,l3):\n",
    "        shape.__init__(self,l1,l2,l3)\n",
    "        super(Triangle,self).__init__(l1,l2,l3)\n",
    "    def findArea(self):\n",
    "        s = (self.l1+self.l2+self.l3)/2\n",
    "        area = (s*(s-self.l1)*(s-self.l2)*(s-self.l3))**0.5\n",
    "        try:\n",
    "            print('Area of Triangle is %0.2f' %area)\n",
    "        except:\n",
    "            print('Invalid Triangle (as one side is greater than other two sides)')\n",
    "t = Triangle(3,4,5)\n",
    "t.findArea()\n",
    "            \n",
    "    \n",
    "    "
   ]
  },
  {
   "cell_type": "code",
   "execution_count": 2,
   "metadata": {},
   "outputs": [
    {
     "name": "stdout",
     "output_type": "stream",
     "text": [
      "Invalid Triangle (as one side is greater than other two sides)\n"
     ]
    }
   ],
   "source": [
    "t = Triangle(3,4,51)\n",
    "t.findArea()\n",
    "            "
   ]
  },
  {
   "cell_type": "markdown",
   "metadata": {},
   "source": [
    "## 1.2 Write a function filter_long_words() that takes a list of words and an integer n and returns the listof words that are longer than n."
   ]
  },
  {
   "cell_type": "code",
   "execution_count": 3,
   "metadata": {},
   "outputs": [],
   "source": [
    "def filter_long_words(list):\n",
    "    print('integer count')\n",
    "    num = int(input())\n",
    "    print('words greater than integer count are:')\n",
    "    for word in list:\n",
    "        if(len(word)>num):\n",
    "            print(word)\n",
    "    else:\n",
    "         pass        \n",
    "    "
   ]
  },
  {
   "cell_type": "code",
   "execution_count": 4,
   "metadata": {},
   "outputs": [
    {
     "name": "stdout",
     "output_type": "stream",
     "text": [
      "integer count\n",
      "5\n",
      "words greater than integer count are:\n",
      "banglore\n",
      "hyderabad\n"
     ]
    }
   ],
   "source": [
    "list = ['delhi','pune','goa','banglore','hyderabad']\n",
    "filter_long_words(list)"
   ]
  },
  {
   "cell_type": "markdown",
   "metadata": {},
   "source": [
    "## 2.1 Write a python program using function concept that maps list of words into list of integers representing the lengths of the corresponding words.\n",
    "## **Hint:** If a list [ab,cde,erty] is passed on to to the python function output should come as [2,3,4] Here, 2,3 and 4 are the lengths of the words in the list."
   ]
  },
  {
   "cell_type": "code",
   "execution_count": 5,
   "metadata": {},
   "outputs": [
    {
     "name": "stdout",
     "output_type": "stream",
     "text": [
      "ab,cde,erty\n",
      "[2, 3, 4]\n"
     ]
    }
   ],
   "source": [
    "def countlst():\n",
    "    lst = []\n",
    "    length = []\n",
    "    words = input()\n",
    "    lst.append(words.split(','))\n",
    "    for l in lst:\n",
    "        for i in l:\n",
    "            length.append(len(i))\n",
    "        print(length)\n",
    "countlst()        "
   ]
  },
  {
   "cell_type": "markdown",
   "metadata": {},
   "source": [
    "## 2.2 Write a python function which takes a character (i.e a string of length 1) and returns True if it is vowel, False otherwise.\n"
   ]
  },
  {
   "cell_type": "code",
   "execution_count": 6,
   "metadata": {},
   "outputs": [],
   "source": [
    "def letter():\n",
    "    string = input()\n",
    "    vowel = ['a','e','i','o','u']\n",
    "    for x in vowel:\n",
    "        if x==string:\n",
    "            print(True)\n",
    "            break\n",
    "           \n",
    "    else:\n",
    "        print(False)"
   ]
  },
  {
   "cell_type": "code",
   "execution_count": 7,
   "metadata": {},
   "outputs": [
    {
     "name": "stdout",
     "output_type": "stream",
     "text": [
      "a\n",
      "True\n"
     ]
    }
   ],
   "source": [
    "letter()"
   ]
  },
  {
   "cell_type": "code",
   "execution_count": 11,
   "metadata": {},
   "outputs": [
    {
     "name": "stdout",
     "output_type": "stream",
     "text": [
      "e\n",
      "True\n"
     ]
    }
   ],
   "source": [
    "letter()"
   ]
  },
  {
   "cell_type": "code",
   "execution_count": 12,
   "metadata": {},
   "outputs": [
    {
     "name": "stdout",
     "output_type": "stream",
     "text": [
      "i\n",
      "True\n"
     ]
    }
   ],
   "source": [
    "letter()"
   ]
  },
  {
   "cell_type": "code",
   "execution_count": 13,
   "metadata": {},
   "outputs": [
    {
     "name": "stdout",
     "output_type": "stream",
     "text": [
      "o\n",
      "True\n"
     ]
    }
   ],
   "source": [
    "letter()"
   ]
  },
  {
   "cell_type": "code",
   "execution_count": 14,
   "metadata": {},
   "outputs": [
    {
     "name": "stdout",
     "output_type": "stream",
     "text": [
      "u\n",
      "True\n"
     ]
    }
   ],
   "source": [
    "letter()"
   ]
  },
  {
   "cell_type": "code",
   "execution_count": 16,
   "metadata": {},
   "outputs": [
    {
     "name": "stdout",
     "output_type": "stream",
     "text": [
      "b\n",
      "False\n"
     ]
    }
   ],
   "source": [
    "letter()"
   ]
  },
  {
   "cell_type": "code",
   "execution_count": 18,
   "metadata": {},
   "outputs": [
    {
     "name": "stdout",
     "output_type": "stream",
     "text": [
      "z\n",
      "False\n"
     ]
    }
   ],
   "source": [
    "letter()"
   ]
  },
  {
   "cell_type": "code",
   "execution_count": null,
   "metadata": {},
   "outputs": [],
   "source": []
  }
 ],
 "metadata": {
  "kernelspec": {
   "display_name": "Python 3",
   "language": "python",
   "name": "python3"
  },
  "language_info": {
   "codemirror_mode": {
    "name": "ipython",
    "version": 3
   },
   "file_extension": ".py",
   "mimetype": "text/x-python",
   "name": "python",
   "nbconvert_exporter": "python",
   "pygments_lexer": "ipython3",
   "version": "3.8.3"
  }
 },
 "nbformat": 4,
 "nbformat_minor": 4
}
